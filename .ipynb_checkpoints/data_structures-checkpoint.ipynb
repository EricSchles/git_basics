{
 "cells": [
  {
   "cell_type": "markdown",
   "id": "e34eefac",
   "metadata": {},
   "source": [
    "# Pointers\n",
    "\n",
    "Pointers are at the core of how to design and develop data structures.  A pointer based data structure is at the core of what's used by any version control system.\n",
    "\n",
    "## Memory\n",
    "\n",
    "In order to understand pointers, we need a naive notion of memory.  We can think of memory as addresses.  Each address holds a fixed amount of data, based on the type of the data.\n",
    "\n",
    "By way of example ints hold a certain amount of data, and floats hold a different certain amount of data.\n",
    "\n",
    "Let's look at an example in Python:"
   ]
  },
  {
   "cell_type": "code",
   "execution_count": 1,
   "id": "1c43cc04",
   "metadata": {},
   "outputs": [
    {
     "data": {
      "text/plain": [
       "28"
      ]
     },
     "execution_count": 1,
     "metadata": {},
     "output_type": "execute_result"
    }
   ],
   "source": [
    "import sys\n",
    "\n",
    "sys.getsizeof(5)"
   ]
  },
  {
   "cell_type": "markdown",
   "id": "d217f7c6",
   "metadata": {},
   "source": [
    "It's important to note, that everything in Python is an object, even ints:"
   ]
  },
  {
   "cell_type": "code",
   "execution_count": 2,
   "id": "0a1fc246",
   "metadata": {
    "scrolled": true
   },
   "outputs": [
    {
     "data": {
      "text/plain": [
       "['__abs__',\n",
       " '__add__',\n",
       " '__and__',\n",
       " '__bool__',\n",
       " '__ceil__',\n",
       " '__class__',\n",
       " '__delattr__',\n",
       " '__dir__',\n",
       " '__divmod__',\n",
       " '__doc__',\n",
       " '__eq__',\n",
       " '__float__',\n",
       " '__floor__',\n",
       " '__floordiv__',\n",
       " '__format__',\n",
       " '__ge__',\n",
       " '__getattribute__',\n",
       " '__getnewargs__',\n",
       " '__gt__',\n",
       " '__hash__',\n",
       " '__index__',\n",
       " '__init__',\n",
       " '__init_subclass__',\n",
       " '__int__',\n",
       " '__invert__',\n",
       " '__le__',\n",
       " '__lshift__',\n",
       " '__lt__',\n",
       " '__mod__',\n",
       " '__mul__',\n",
       " '__ne__',\n",
       " '__neg__',\n",
       " '__new__',\n",
       " '__or__',\n",
       " '__pos__',\n",
       " '__pow__',\n",
       " '__radd__',\n",
       " '__rand__',\n",
       " '__rdivmod__',\n",
       " '__reduce__',\n",
       " '__reduce_ex__',\n",
       " '__repr__',\n",
       " '__rfloordiv__',\n",
       " '__rlshift__',\n",
       " '__rmod__',\n",
       " '__rmul__',\n",
       " '__ror__',\n",
       " '__round__',\n",
       " '__rpow__',\n",
       " '__rrshift__',\n",
       " '__rshift__',\n",
       " '__rsub__',\n",
       " '__rtruediv__',\n",
       " '__rxor__',\n",
       " '__setattr__',\n",
       " '__sizeof__',\n",
       " '__str__',\n",
       " '__sub__',\n",
       " '__subclasshook__',\n",
       " '__truediv__',\n",
       " '__trunc__',\n",
       " '__xor__',\n",
       " 'as_integer_ratio',\n",
       " 'bit_length',\n",
       " 'conjugate',\n",
       " 'denominator',\n",
       " 'from_bytes',\n",
       " 'imag',\n",
       " 'numerator',\n",
       " 'real',\n",
       " 'to_bytes']"
      ]
     },
     "execution_count": 2,
     "metadata": {},
     "output_type": "execute_result"
    }
   ],
   "source": [
    "x = 5\n",
    "\n",
    "dir(x)"
   ]
  },
  {
   "cell_type": "markdown",
   "id": "eeab3e40",
   "metadata": {},
   "source": [
    "So this means ints in Python are of a variable size:"
   ]
  },
  {
   "cell_type": "code",
   "execution_count": 3,
   "id": "f44c437b",
   "metadata": {},
   "outputs": [
    {
     "data": {
      "text/plain": [
       "4456"
      ]
     },
     "execution_count": 3,
     "metadata": {},
     "output_type": "execute_result"
    }
   ],
   "source": [
    "x = int(\"5\"*10000)\n",
    "sys.getsizeof(x)"
   ]
  },
  {
   "cell_type": "markdown",
   "id": "cde29c06",
   "metadata": {},
   "source": [
    "Let's see what happens when we look at floats:"
   ]
  },
  {
   "cell_type": "code",
   "execution_count": 4,
   "id": "1620a399",
   "metadata": {},
   "outputs": [
    {
     "data": {
      "text/plain": [
       "24"
      ]
     },
     "execution_count": 4,
     "metadata": {},
     "output_type": "execute_result"
    }
   ],
   "source": [
    "x = 5.0\n",
    "sys.getsizeof(x)"
   ]
  },
  {
   "cell_type": "code",
   "execution_count": 20,
   "id": "07a7f9da",
   "metadata": {},
   "outputs": [
    {
     "data": {
      "text/plain": [
       "24"
      ]
     },
     "execution_count": 20,
     "metadata": {},
     "output_type": "execute_result"
    }
   ],
   "source": [
    "x = float(\"9\"*100 + \".\" + \"12451235\")\n",
    "sys.getsizeof(x)"
   ]
  },
  {
   "cell_type": "code",
   "execution_count": 21,
   "id": "82f77d91",
   "metadata": {},
   "outputs": [
    {
     "data": {
      "text/plain": [
       "1e+100"
      ]
     },
     "execution_count": 21,
     "metadata": {},
     "output_type": "execute_result"
    }
   ],
   "source": [
    "x"
   ]
  },
  {
   "cell_type": "markdown",
   "id": "e7ccca8c",
   "metadata": {},
   "source": [
    "## Pointer Definition\n",
    "\n",
    "A pointer is just a _reference_ to an address.  \n",
    "\n",
    "Note: pointers in python don't work for the four basic types:\n",
    "\n",
    "* int\n",
    "* float\n",
    "* bool\n",
    "* str\n",
    "\n",
    "Example:"
   ]
  },
  {
   "cell_type": "code",
   "execution_count": 25,
   "id": "f7226195",
   "metadata": {},
   "outputs": [
    {
     "name": "stdout",
     "output_type": "stream",
     "text": [
      "[5, 2, 3]\n"
     ]
    }
   ],
   "source": [
    "listing = [1,2,3]\n",
    "pointer = listing\n",
    "pointer[0] = 5\n",
    "print(listing)"
   ]
  },
  {
   "cell_type": "markdown",
   "id": "82601d32",
   "metadata": {},
   "source": [
    "Notice we updated the value of the zeroth element in `pointer`, but this updated the zeroth element in `listing`.  This is because when we use `=` called assignment in programming, we copy the data _and_ the addresses over.  This may feel like a 'bug'.  But it's actually a feature.  If we wanted to make a copy, we'd just use:"
   ]
  },
  {
   "cell_type": "code",
   "execution_count": 29,
   "id": "d15a0713",
   "metadata": {},
   "outputs": [
    {
     "name": "stdout",
     "output_type": "stream",
     "text": [
      "[5, 2, 3]\n"
     ]
    }
   ],
   "source": [
    "import copy\n",
    "\n",
    "new_list = copy.deepcopy(listing)\n",
    "new_list[0] = 6\n",
    "print(listing)"
   ]
  },
  {
   "cell_type": "markdown",
   "id": "daf45fe6",
   "metadata": {},
   "source": [
    "Because we did a deepcopy, we avoid the issue of reference assignment.  In any event, the notion of the pointer is somewhat _implicit_ in Python.  This is because memory management can be hard to reason about, within a program, even though the idea is simple.  But I digress.\n",
    "\n",
    "We can use this notion of a reference to build data structures:"
   ]
  },
  {
   "cell_type": "code",
   "execution_count": 32,
   "id": "169ffab5",
   "metadata": {},
   "outputs": [
    {
     "name": "stdout",
     "output_type": "stream",
     "text": [
      "0\n",
      "1\n",
      "2\n",
      "3\n",
      "4\n",
      "5\n",
      "6\n",
      "7\n",
      "8\n",
      "9\n"
     ]
    }
   ],
   "source": [
    "class Node:\n",
    "    def __init__(self, data, next=None):\n",
    "        self.data = data\n",
    "        self.next = next\n",
    "    \n",
    "    def __str__(self):\n",
    "        return repr(self.data)\n",
    "    \n",
    "class LinkedList:\n",
    "    def __init__(self):\n",
    "        self.head = None\n",
    "        self.len = 0\n",
    "        \n",
    "    def append(self, data):\n",
    "        if not self.head:\n",
    "            self.head = Node(data)\n",
    "            self.len += 1\n",
    "        else:\n",
    "            cur = self.head\n",
    "            while cur.next:\n",
    "                cur = cur.next\n",
    "            cur.next = Node(data)\n",
    "            self.len += 1\n",
    "    \n",
    "    def remove(self, data):\n",
    "        if not self.head:\n",
    "            assert Exception(\"No elements, nothing to remove\")\n",
    "        if self.head and self.head.data == data:\n",
    "            if self.head.next:\n",
    "                self.head = self.head.next\n",
    "            else:\n",
    "                self.head = None\n",
    "        if self.head.next and self.head.next.data == data:\n",
    "            if self.head.next.next:\n",
    "                self.head.next = self.head.next.next\n",
    "            else:\n",
    "                self.head.next = None\n",
    "        else:\n",
    "            cur = self.head.next\n",
    "            prev = self.head\n",
    "            while cur.next and cur.data != data:\n",
    "                cur = cur.next\n",
    "                prev = prev.next\n",
    "            if cur is not None and cur.data == data:\n",
    "                prev.next = cur.next\n",
    "                cur = None\n",
    "\n",
    "ll = LinkedList()            \n",
    "for i in range(10):\n",
    "    ll.append(i)\n",
    "    \n",
    "cur = ll.head\n",
    "while cur:\n",
    "    print(cur)\n",
    "    cur = cur.next"
   ]
  },
  {
   "cell_type": "code",
   "execution_count": 33,
   "id": "4d8e68a0",
   "metadata": {},
   "outputs": [
    {
     "name": "stdout",
     "output_type": "stream",
     "text": [
      "0\n",
      "1\n",
      "2\n",
      "3\n",
      "4\n",
      "5\n",
      "6\n",
      "8\n",
      "9\n"
     ]
    }
   ],
   "source": [
    "ll.remove(7)\n",
    "cur = ll.head\n",
    "while cur:\n",
    "    print(cur)\n",
    "    cur = cur.next"
   ]
  },
  {
   "cell_type": "markdown",
   "id": "e77ac12d",
   "metadata": {},
   "source": [
    "If seeing the code doesn't help, try checking out:\n",
    "\n",
    "https://visualgo.net/en/list or https://www.cs.usfca.edu/~galles/visualization/StackLL.html\n",
    "\n",
    "Which shows visually how a linked list works.\n",
    "\n",
    "Why did I show you this?  Well, the reason is a version control system is kind of _like_ a linked list.  The only difference is, instead of numbers, we commit code.  In a version control system, each node is the changes between some initial state, and some new state.  Sometimes these changes mean, creating new files.  Sometimes, these changes mean changes to specific files.  But each _node_ in the linked list that is your version of code, is kept up by a linked list.\n",
    "\n",
    "The pointer you happen to be at in the code, is your head node.  This may be different from the remote's head node.  If these two are out of sync then you can do what's called a 'pull'.  This 'updates' your head node to the remote's head node.  That's assuming you are on the _same_ branch as someone else.  \n",
    "\n",
    "Note:  Typically, you'll want to do your work on separate branches and merge to main often!"
   ]
  },
  {
   "cell_type": "code",
   "execution_count": null,
   "id": "e24f5ee5",
   "metadata": {},
   "outputs": [],
   "source": []
  }
 ],
 "metadata": {
  "kernelspec": {
   "display_name": "Python 3",
   "language": "python",
   "name": "python3"
  },
  "language_info": {
   "codemirror_mode": {
    "name": "ipython",
    "version": 3
   },
   "file_extension": ".py",
   "mimetype": "text/x-python",
   "name": "python",
   "nbconvert_exporter": "python",
   "pygments_lexer": "ipython3",
   "version": "3.9.5"
  }
 },
 "nbformat": 4,
 "nbformat_minor": 5
}
